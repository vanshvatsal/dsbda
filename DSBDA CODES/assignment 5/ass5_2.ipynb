{
 "cells": [
  {
   "cell_type": "code",
   "execution_count": 1,
   "id": "930248d2",
   "metadata": {},
   "outputs": [],
   "source": [
    "# pip install mysql-connector-python"
   ]
  },
  {
   "cell_type": "code",
   "execution_count": 2,
   "id": "4cab4077",
   "metadata": {},
   "outputs": [],
   "source": [
    "import mysql.connector"
   ]
  },
  {
   "cell_type": "code",
   "execution_count": 6,
   "id": "0e117ed8",
   "metadata": {},
   "outputs": [],
   "source": [
    "db_config = {\n",
    "    'user': 'root',           \n",
    "    'password': 'ganesha18022003',       # password for mysql\n",
    "    'host': 'localhost',\n",
    "    'database':'dummy'   # database name\n",
    "}\n"
   ]
  },
  {
   "cell_type": "code",
   "execution_count": 8,
   "id": "786ceffa",
   "metadata": {},
   "outputs": [],
   "source": [
    "connection = mysql.connector.connect(**db_config)\n",
    "# create a connection object"
   ]
  },
  {
   "cell_type": "code",
   "execution_count": 9,
   "id": "e586cbcb",
   "metadata": {},
   "outputs": [],
   "source": [
    "# creating cursor\n",
    "'''\n",
    "a cursor is a mechanism that enables you to traverse the records \n",
    "in a database result set. It acts as a pointer or an iterator that \n",
    "allows you to move through the rows of a query result and manipulate \n",
    "the data.\n",
    "'''\n",
    "cursor = connection.cursor()"
   ]
  },
  {
   "cell_type": "code",
   "execution_count": 13,
   "id": "b4570170",
   "metadata": {},
   "outputs": [],
   "source": [
    "insert_query = \"insert into test(name,email) values (%s,%s)\""
   ]
  },
  {
   "cell_type": "code",
   "execution_count": 14,
   "id": "832d87b3",
   "metadata": {},
   "outputs": [],
   "source": [
    "users_data = [\n",
    "    ('akash', 'akash.com'),\n",
    "    ('raj', 'raj.com')\n",
    "]"
   ]
  },
  {
   "cell_type": "code",
   "execution_count": 15,
   "id": "254597eb",
   "metadata": {},
   "outputs": [],
   "source": [
    "# execution\n",
    "cursor.executemany(insert_query, users_data)"
   ]
  },
  {
   "cell_type": "code",
   "execution_count": 16,
   "id": "46fb387a",
   "metadata": {},
   "outputs": [],
   "source": [
    "# commiting the changes\n",
    "connection.commit()"
   ]
  },
  {
   "cell_type": "code",
   "execution_count": 18,
   "id": "f4e96b89",
   "metadata": {},
   "outputs": [],
   "source": [
    "cursor.execute(\"select * from test\")"
   ]
  },
  {
   "cell_type": "code",
   "execution_count": 19,
   "id": "61dd9bb6",
   "metadata": {},
   "outputs": [
    {
     "data": {
      "text/plain": [
       "[('vansh', 'vv@gmam'), ('akash', 'akash.com'), ('raj', 'raj.com')]"
      ]
     },
     "execution_count": 19,
     "metadata": {},
     "output_type": "execute_result"
    }
   ],
   "source": [
    "# getting the result from cursor\n",
    "result = cursor.fetchall()\n",
    "result"
   ]
  },
  {
   "cell_type": "code",
   "execution_count": 20,
   "id": "edb63463",
   "metadata": {},
   "outputs": [],
   "source": [
    "# need to close the connection manually\n",
    "cursor.close()\n",
    "connection.close()"
   ]
  },
  {
   "cell_type": "code",
   "execution_count": null,
   "id": "66e30b00",
   "metadata": {},
   "outputs": [],
   "source": []
  }
 ],
 "metadata": {
  "kernelspec": {
   "display_name": "Python 3 (ipykernel)",
   "language": "python",
   "name": "python3"
  },
  "language_info": {
   "codemirror_mode": {
    "name": "ipython",
    "version": 3
   },
   "file_extension": ".py",
   "mimetype": "text/x-python",
   "name": "python",
   "nbconvert_exporter": "python",
   "pygments_lexer": "ipython3",
   "version": "3.11.6"
  }
 },
 "nbformat": 4,
 "nbformat_minor": 5
}
